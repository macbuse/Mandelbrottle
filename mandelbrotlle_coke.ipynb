{
 "cells": [
  {
   "cell_type": "markdown",
   "metadata": {},
   "source": [
    "# The Mandelbrottle\n",
    "\n",
    "This is a shameless ripoff of an idea of Gabriel and Bernat \n",
    "at the [ICERM](https://icerm.brown.edu/programs/sp-f19/)\n",
    "Illustrating Math program.\n",
    "\n",
    "They worked out how to use [chimera](https://www.cgl.ucsf.edu/chimera/)\n",
    "to get an STL file from a multi image TIFF by stacking layers of voxels.\n",
    "Below we build a TIFF for importing in Chimera.\n",
    "\n",
    "Each level set is a Julia set with the corresponding $c$\n",
    "in $f_c(z) = z^2 + c$ on a circle passing through 0.\n",
    "\n",
    "---\n",
    "\n",
    "\n",
    "## Technical notes\n",
    "\n",
    "1. If you have downloaded this notebook then you already have Anaconda\n",
    "and you shouldn't need to install anything except maybe svgpathtools\n",
    "\n",
    "1. A priori this file is enough to make an STL to print the bottle.\n",
    "Well actually Chimera makes the STL we make a multi image TIFF\n",
    "to load in Chimera.\n",
    "If you don't have the *json* for the profile\n",
    "you can copy paste the SVG path into a cell\n",
    "and create a variable from it.\n",
    "\n",
    "1. Theoretically we can use Chimera directly from a notebook\n",
    "with [this package](https://pypi.org/project/pychimera/0.1.11/)\n",
    "but it only works with python 2.7 and I'm tired of building environments.\n",
    "\n",
    "---\n",
    "\n",
    "## Here is the bottle top "
   ]
  },
  {
   "cell_type": "code",
   "execution_count": 69,
   "metadata": {},
   "outputs": [
    {
     "data": {
      "text/plain": [
       "<matplotlib.image.AxesImage at 0x7d1f008b88d0>"
      ]
     },
     "execution_count": 69,
     "metadata": {},
     "output_type": "execute_result"
    },
    {
     "data": {
      "image/png": "[encoded data removed]",
      "text/plain": [
       "<Figure size 432x288 with 1 Axes>"
      ]
     },
     "metadata": {
      "needs_background": "light"
     },
     "output_type": "display_data"
    }
   ],
   "source": [
    "plt.imshow(julia(.25))"
   ]
  },
  {
   "cell_type": "markdown",
   "metadata": {},
   "source": [
    "## Here is what the mesh looks like in Chimera\n",
    "\n",
    "![chalice](./coke_chimera1.png)"
   ]
  },
  {
   "cell_type": "markdown",
   "metadata": {},
   "source": [
    "![chalice](./coke_chimera2.png)"
   ]
  },
  {
   "cell_type": "markdown",
   "metadata": {},
   "source": [
    "## So let's get started"
   ]
  },
  {
   "cell_type": "code",
   "execution_count": 1,
   "metadata": {},
   "outputs": [],
   "source": [
    "import matplotlib.pyplot as plt\n",
    "import numpy as np \n",
    "import imageio \n",
    "\n",
    "# I might run this in notebook and not lab so\n",
    "%matplotlib inline\n",
    "# skimage is sensitive about letting u import so....\n",
    "from skimage.transform import resize, rotate\n",
    "from svgpathtools import  parse_path\n",
    "\n",
    "def mk_gif(frames, fn='weather.gif', duration=.3):\n",
    "    with imageio.get_writer(fn, mode='I',duration=duration) as writer:\n",
    "        for frame in frames:\n",
    "            if frame is None: continue\n",
    "            writer.append_data(frame)\n",
    "            "
   ]
  },
  {
   "cell_type": "markdown",
   "metadata": {},
   "source": [
    "# Building the profile and a path in the Mandelbrot set\n",
    "\n",
    "I gave up hand coding the profile with nested **if** statements and \n",
    "\n",
    "- wrote an extension  for **Inkscape** to export the SVG path in json\n",
    "- which is parsed  to an object with a parameterised 2D path\n",
    "- which I can interpolate to get level sets\n",
    "\n",
    "There was probably an extension already to do this but \n",
    "coding it took less time than looking and configuring."
   ]
  },
  {
   "cell_type": "code",
   "execution_count": 11,
   "metadata": {},
   "outputs": [],
   "source": [
    "import json, os\n",
    "fn = os.environ['HOME'] + '/coke7.json'\n",
    "with open(fn,'r') as fp:\n",
    "    data = json.load(fp)\n",
    "    \n",
    "pth = data['svg']\n",
    "pth = pth.replace(',', ' ')\n",
    "bez = parse_path(pth)"
   ]
  },
  {
   "cell_type": "markdown",
   "metadata": {},
   "source": [
    "The path doesn't have many nodes so \n",
    "I view it in case I accidentally overwrite the .json."
   ]
  },
  {
   "cell_type": "code",
   "execution_count": 12,
   "metadata": {},
   "outputs": [
    {
     "data": {
      "text/plain": [
       "'m 85.414412,239.54468 c 0,0 -2.816565,-5.00727 -2.615772,-8.57546 -0.02264,-8.46582 4.862962,-17.60679 5.384642,-24.72846 0.565625,-8.45022 -6.624797,-34.68114 -3.421545,-38.97664 -0.997699,-8.34589 1.076481,-23.75128 0.867481,-31.72875 -0.432564,-10.57738 5.1889,-17.62001 10.490401,-37.21014 1.020208,-4.506484 2.236318,-9.527354 1.653163,-14.110928 -0.146696,-1.153022 0,0 -1.653161,-3.070159 0.255133,-1.418975 -0.0493,-5.199277 1.536918,-6.584557 2.212619,-1.932324 2.958291,-2.697352 2.958291,-2.697352'"
      ]
     },
     "execution_count": 12,
     "metadata": {},
     "output_type": "execute_result"
    }
   ],
   "source": [
    "data['svg']"
   ]
  },
  {
   "cell_type": "markdown",
   "metadata": {},
   "source": [
    "# Setting the parameters\n",
    "\n",
    "A coke bottle consists of 4 pieces:\n",
    "\n",
    "- the base\n",
    "- the middle bulge where the label goes\n",
    "- the neck\n",
    "- the top\n",
    "\n",
    "So here are the values I set from the profile\n",
    "\n",
    "```\n",
    "start_middle = .44\n",
    "end_middle = .64\n",
    "start_neck = .83\n",
    "end_neck =.94\n",
    "```\n",
    "\n",
    "You should tweak them in the cell below"
   ]
  },
  {
   "cell_type": "code",
   "execution_count": 27,
   "metadata": {},
   "outputs": [
    {
     "data": {
      "image/png": "[encoded data removed]",
      "text/plain": [
       "<Figure size 576x576 with 1 Axes>"
      ]
     },
     "metadata": {
      "needs_background": "light"
     },
     "output_type": "display_data"
    }
   ],
   "source": [
    "#this is global \n",
    "num_layers = 150\n",
    "\n",
    "T = np.linspace(0,1,num_layers)\n",
    "myPath = [bez.point(t) for t in T]\n",
    "\n",
    "#the path pts have to be in ascending order for np.interp()\n",
    "X, Y = list(zip(* [(z.real,-z.imag) for z in reversed(myPath)] ))\n",
    "X, Y = list(zip(* [(z.real,-z.imag) for z in myPath] ))\n",
    "X, Y = np.array(X), np.array(Y)\n",
    "\n",
    "# ff stands for fudge factor\n",
    "ff = abs((max(Y) - min(Y)) /(max(X) - min(X)))\n",
    "\n",
    "Y = (Y - min(Y))\n",
    "Y =  Y/max(Y)\n",
    "X =  1.03 - X/max(X)\n",
    "X /= max(X)\n",
    "            \n",
    "R = np.interp(T,Y,X) \n",
    "\n",
    "#center the design manually\n",
    "#cc = .25\n",
    "#R = (1-cc)*R + cc\n",
    "\n",
    "\n",
    "# comment the next line out to see the design as is\n",
    "ff = 1.\n",
    "plt.figure(figsize=(8, 8))\n",
    "plt.axis('equal')\n",
    "plt.plot([-r for r in R], ff*T, 'r.')\n",
    "plt.plot(R, ff*T, 'b.')\n",
    "\n",
    "#there are 2 flat parts on a bottle\n",
    "#the middle where the label goes and the neck\n",
    "start_middle = .44\n",
    "end_middle = .64\n",
    "start_neck = .83\n",
    "end_neck =.94\n",
    "\n",
    "for hh in [start_middle, end_middle, start_top, end_top ]:\n",
    "    xx,yy = [-1,1], [ff*hh,ff*hh]\n",
    "    plt.plot(xx,yy)\n",
    "\n",
    "\n"
   ]
  },
  {
   "cell_type": "markdown",
   "metadata": {},
   "source": [
    "# Let's improve the Julia sets we use\n",
    "\n",
    "but first let's generate a Mandelbrot set \n",
    "as a reference for when we display the path.\n",
    "\n",
    "---\n",
    "\n",
    "## Technical comment\n",
    "\n",
    "I use numpy arrays and boolean masks.\n",
    "It's not much slower than cython \n",
    "and there are less LOC."
   ]
  },
  {
   "cell_type": "code",
   "execution_count": 8,
   "metadata": {},
   "outputs": [
    {
     "data": {
      "image/png": "[encoded data removed]",
      "text/plain": [
       "<Figure size 864x864 with 1 Axes>"
      ]
     },
     "metadata": {
      "needs_background": "light"
     },
     "output_type": "display_data"
    }
   ],
   "source": [
    "npts = 512\n",
    "max_iter = 20\n",
    "\n",
    "X = np.linspace(-2, 1, 2*npts)\n",
    "Y = np.linspace(-1, 1, npts)\n",
    "\n",
    "#broadcast the xs to a square array\n",
    "C = X[:, None] + 1J*Y\n",
    "#initial value is always zero\n",
    "Z = np.zeros_like(C)\n",
    "\n",
    "exit_times = max_iter * np.ones(C.shape, np.int8)\n",
    "mask = exit_times > 0\n",
    "\n",
    "for k in range(max_iter):\n",
    "    Z[mask] = Z[mask] * Z[mask] + C[mask]\n",
    "    mask, old_mask = abs(Z) < 2, mask\n",
    "    #use XOR to detect the area which has changed \n",
    "    exit_times[mask ^ old_mask] = k\n",
    "    \n",
    "#r,g,b layers are all the same\n",
    "image = np.stack((exit_times,)*3).T\n",
    "#choose a coloring scheme now\n",
    "image = 1 - image/max_iter\n",
    "\n",
    "fig = plt.figure(figsize=(12,12))\n",
    "ax = fig.add_subplot(111)\n",
    "ax.axis('off')\n",
    "ax.set_aspect(1) \n",
    "u = ax.imshow(image)"
   ]
  },
  {
   "cell_type": "markdown",
   "metadata": {},
   "source": [
    "# And now the path we use\n",
    "\n",
    "it's actually just going round a circle twice"
   ]
  },
  {
   "cell_type": "code",
   "execution_count": 39,
   "metadata": {},
   "outputs": [
    {
     "data": {
      "image/png": "[encoded data removed]",
      "text/plain": [
       "<Figure size 1080x1080 with 1 Axes>"
      ]
     },
     "metadata": {
      "needs_background": "light"
     },
     "output_type": "display_data"
    }
   ],
   "source": [
    "def z2pt(z,im):\n",
    "    '''generic helper'''\n",
    "    sy,sx,l = im.shape\n",
    "    x =  z.real*sx/4 + sx/3*2\n",
    "    y =  -z.imag*sy/2 + sy/2\n",
    "    return x,y\n",
    "\n",
    "\n",
    "def cardoid(z):\n",
    "    return .5*z*(1-.5*z)\n",
    "\n",
    "cardoid = np.vectorize(cardoid)\n",
    "\n",
    "\n",
    "def path_in_mandelbrot(t):\n",
    "    if t < start_middle:\n",
    "        tt = np.interp(t,[ 0,start_middle], \n",
    "                          [0, 2*np.pi*1J])\n",
    "        return .125*(1 - np.exp(tt) )\n",
    "    \n",
    "    #flat part in the middle for the label\n",
    "    if t < end_middle:\n",
    "        return 0\n",
    "    #second spiral\n",
    "    if t < start_neck:\n",
    "        tt = np.interp(t, [end_middle, start_top],\n",
    "                           [0, 2*np.pi*1J])\n",
    "        return .125*(1 - np.exp(tt) )\n",
    "    \n",
    "    #flat part near the neck\n",
    "    if t < end_neck:\n",
    "        return 0\n",
    "    \n",
    "    #make a cap\n",
    "    if t <.98: return .25\n",
    "    #interpolate to circle\n",
    "    return np.interp(t,[0.98,1],\n",
    "                       [0.25,0])\n",
    "\n",
    "fig = plt.figure(figsize=(15,15))\n",
    "ax = fig.add_subplot(111)\n",
    "ax.axis('off')\n",
    "ax.set_aspect(1) \n",
    "\n",
    "plt.imshow(image)\n",
    "U,V = list(zip(* [z2pt(path_in_mandelbrot(t),image ) for t in T[:]]))\n",
    "ax.plot(U,V,'rx')\n",
    "\n",
    "z = cardoid( [np.exp(2*np.pi*1J/4) ])\n"
   ]
  },
  {
   "cell_type": "markdown",
   "metadata": {},
   "source": [
    "# Modded code\n",
    "\n",
    "we need the Julia set code as a function to run on the path in the Mandelbrot set\n",
    "that we have chosen in the Mandelbrojt set. \n",
    "\n",
    "Let's check that we have the right number of layers first."
   ]
  },
  {
   "cell_type": "code",
   "execution_count": 25,
   "metadata": {},
   "outputs": [
    {
     "data": {
      "text/plain": [
       "150"
      ]
     },
     "execution_count": 25,
     "metadata": {},
     "output_type": "execute_result"
    }
   ],
   "source": [
    "num_layers"
   ]
  },
  {
   "cell_type": "code",
   "execution_count": 36,
   "metadata": {},
   "outputs": [],
   "source": [
    "def julia(c=.25 + .1J,\n",
    "    npts=512,\n",
    "    max_iter=20):\n",
    "\n",
    "    X = np.linspace(-2, 2, npts)\n",
    "    Y = np.linspace(-2, 2, npts)\n",
    "    Z = X[:, None] + 1J*Y\n",
    "    \n",
    "    #255 is important here \n",
    "    #to avoid blank images on rescaling\n",
    "    exit_times =  255 - np.zeros(Z.shape, np.uint8)\n",
    "    mask = exit_times > 0\n",
    "\n",
    "    for k in range(max_iter):\n",
    "        Z[mask] = Z[mask] * Z[mask] + c\n",
    "        mask = abs(Z) < 2\n",
    "        exit_times[ np.logical_not(mask)] = 0\n",
    "    \n",
    "    return exit_times\n",
    "    \n",
    "frames = [julia(path_in_mandelbrot(t)) for t in T ]"
   ]
  },
  {
   "cell_type": "markdown",
   "metadata": {},
   "source": [
    "Test to see it really works:"
   ]
  },
  {
   "cell_type": "code",
   "execution_count": 37,
   "metadata": {},
   "outputs": [
    {
     "data": {
      "text/plain": [
       "<matplotlib.image.AxesImage at 0x7f42eec5fcf8>"
      ]
     },
     "execution_count": 37,
     "metadata": {},
     "output_type": "execute_result"
    },
    {
     "data": {
      "image/png": "[encoded data removed]",
      "text/plain": [
       "<Figure size 432x288 with 1 Axes>"
      ]
     },
     "metadata": {
      "needs_background": "light"
     },
     "output_type": "display_data"
    }
   ],
   "source": [
    "plt.imshow(julia())"
   ]
  },
  {
   "cell_type": "markdown",
   "metadata": {},
   "source": [
    "# Now we need to do  some post processing\n",
    "\n",
    "This will consists of resizing and a tiny amount of rotation to get texture.\n",
    "\n",
    "---\n",
    "\n",
    "## Technical comment\n",
    "Remember to make sure there is enough contrast in the image\n",
    "or else u will get a blank.\n",
    "This is an  issue  here because I'm working with\n",
    "integer values and normally it is implicit \n",
    "that these operations use interpolation.\n",
    "\n",
    "We'll set up a function to do this:"
   ]
  },
  {
   "cell_type": "code",
   "execution_count": 21,
   "metadata": {},
   "outputs": [],
   "source": [
    "def rebox(im,\n",
    "          ss=.5,\n",
    "          rr=10):\n",
    "\n",
    "    '''change size and rotate a square image\n",
    "    insert in the middle of a black image \n",
    "    of the same size as original'''\n",
    "    \n",
    "    sx, sy = im.shape\n",
    "    \n",
    "    #so I want to stay in uint8 so I preserve range\n",
    "    layer = resize(im, (int(sx*ss), int(sy*ss)),  preserve_range=True)\n",
    "    layer = rotate(layer, rr, preserve_range=True)\n",
    "    \n",
    "    dx, dy = layer.shape\n",
    "    cx = sx//2 -  dx//2\n",
    "    \n",
    "    blk = np.zeros_like(im)\n",
    "    #glue it in there baby\n",
    "    blk[cx:cx + dx, cx:cx + dx] = layer[:]  \n",
    "    im = np.stack((blk,)*3).T\n",
    "    return im\n",
    "          "
   ]
  },
  {
   "cell_type": "markdown",
   "metadata": {},
   "source": [
    "# Output\n",
    "\n",
    "so we do a pass over the images\n",
    "- resizing  and rotating\n",
    "- saving to a multi image TIFF\n"
   ]
  },
  {
   "cell_type": "code",
   "execution_count": 38,
   "metadata": {},
   "outputs": [],
   "source": [
    "def angle(t, num_layers):\n",
    "    s = t/num_layers\n",
    "    #stop rotating\n",
    "    if (start_middle  < s < end_middle) or start_neck < s :\n",
    "        return 0\n",
    "    else:\n",
    "        return t"
   ]
  },
  {
   "cell_type": "code",
   "execution_count": 24,
   "metadata": {},
   "outputs": [],
   "source": [
    "ims = [ rebox( im, r, angle(t, len(frames))) \n",
    "          for im, r, t in zip( frames, R, range(1000))]"
   ]
  },
  {
   "cell_type": "markdown",
   "metadata": {},
   "source": [
    "# Warning\n",
    "\n",
    "### fecking Chimera doesn't detect the number of pages/slices so you should set it fom this"
   ]
  },
  {
   "cell_type": "code",
   "execution_count": 56,
   "metadata": {},
   "outputs": [
    {
     "data": {
      "text/plain": [
       "180"
      ]
     },
     "execution_count": 56,
     "metadata": {},
     "output_type": "execute_result"
    }
   ],
   "source": [
    "len(ims)"
   ]
  },
  {
   "cell_type": "markdown",
   "metadata": {},
   "source": [
    "### to get a rough idea of what's going on"
   ]
  },
  {
   "cell_type": "code",
   "execution_count": 17,
   "metadata": {},
   "outputs": [],
   "source": [
    "imageio.mimwrite('pp.gif',ims)"
   ]
  },
  {
   "cell_type": "markdown",
   "metadata": {},
   "source": [
    "### and output for chimera to process\n"
   ]
  },
  {
   "cell_type": "code",
   "execution_count": 26,
   "metadata": {},
   "outputs": [],
   "source": [
    "imageio.mimwrite('coke.tiff', ims,format='TIFF')"
   ]
  },
  {
   "cell_type": "code",
   "execution_count": 58,
   "metadata": {},
   "outputs": [
    {
     "data": {
      "text/plain": [
       "92"
      ]
     },
     "execution_count": 58,
     "metadata": {},
     "output_type": "execute_result"
    }
   ],
   "source": [
    "round(92)"
   ]
  },
  {
   "cell_type": "code",
   "execution_count": null,
   "metadata": {},
   "outputs": [],
   "source": []
  }
 ],
 "metadata": {
  "kernelspec": {
   "display_name": "Python 3",
   "language": "python",
   "name": "python3"
  },
  "language_info": {
   "codemirror_mode": {
    "name": "ipython",
    "version": 3
   },
   "file_extension": ".py",
   "mimetype": "text/x-python",
   "name": "python",
   "nbconvert_exporter": "python",
   "pygments_lexer": "ipython3",
   "version": "3.6.5"
  }
 },
 "nbformat": 4,
 "nbformat_minor": 2
}
